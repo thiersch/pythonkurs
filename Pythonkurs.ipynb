{
 "cells": [
  {
   "cell_type": "markdown",
   "metadata": {},
   "source": [
    "# Python\n",
    "Eine entstehende Einführung in die Programmiersprache Python von B. Thiersch."
   ]
  },
  {
   "cell_type": "markdown",
   "metadata": {},
   "source": [
    "# Variable\n",
    "Alle Daten die ein Computer verarbeitet werden zunächst in seine Ablage, den Speicher (Arbeitsspeicher, RAM) geladen. Programme legen Werte (Daten) in bestimmten Behältern ab, die **Variable** (*Veränderliche*) genannt werden. Im Quelltext des Programms bekommen die Werte einen entsprechenden Namen, den **Variablennamen**. Über diesen Namen kann der Wert dann in den Speicher geschrieben oder aus dem Speicher gelesen werden.\n",
    "\n",
    "<blockquote>Variable sind abstrakte Behälter für Werte im Speicher. Mit Variablennamen greift man auf diese Werte zu.</blockquote>\n",
    "\n",
    "In Python erstellt man eine Variable in dem man ihren namen schreibt und einen Wert ****.\n",
    "\n",
    "## Zuweisung\n",
    "Um einen Wert im Speicher abzulegen, weist man ihn einer Variablen zu. Hierzu wird der Zuweisungs-Operator `=` benutzt.\n",
    "\n",
    "*variablenname = wert*\n",
    "\n",
    "Bei der Zuweisung schreibt man bei allen gängigen Programmiersprachen **links den Variablennamen** und **rechts den Wert**.\n",
    "Möchte man zum Beispiel der Variable `ding` den Wert `5` zuweisen, schreibt man in Python\n",
    "```\n",
    "ding = 5\n",
    "```\n",
    "**Aufgabe:**\n",
    "Experimentiere mit der Zuweisung, erfinde ein paar Variablennamen, weise Werte zu und lass die Ergebnisse ausgeben."
   ]
  },
  {
   "cell_type": "code",
   "execution_count": null,
   "metadata": {},
   "outputs": [],
   "source": [
    "ding = 5\n",
    "print(ding)"
   ]
  },
  {
   "cell_type": "markdown",
   "metadata": {},
   "source": [
    "### Ausdruck\n",
    "Auf der rechten Seite einer Zuweisung können nicht nur Werte stehen, sondern auch zum Beispiel Variable, Rechenoperationen oder Funktionsaufrufe. Die Bedingung ist nur, dass der Computer daraus einen Wert errechnen, er es also *auswerten* kann. Konstrukte, die ausgewertet werden können, heißen **Ausdrücke**.\n",
    "\n",
    "Ausdrücke sind zum Beispiel\n",
    "\n",
    "- Konstante Werte, z.B. `711`, `3.141`, `'a'`, `\"abc\"`, `True`, `None`\n",
    "- Variable, z.B. (`ding`, `monat`, `anzahl_schueler`, `schuelernummer`, `schuelername`)\n",
    "- Operationen, z.B. (`21 * 2`, `a + b`, `anzahl + 1`, `tage_im_monat - tage_wartezeit`)\n",
    "- Funktionsaufrufe, z.B. (`max(1, 2, 3)`, `min('a', 'b', 'c')`, `type(1337)`)\n",
    "\n",
    "Weitere Ausdrücke werden später behandelt.\n",
    "<blockquote>Alles, aus dem ein Wert resultiert, heißt Ausdruck. Bei Zuweisungen stehen Ausdrücke rechts.</blockquote>\n",
    "\n",
    "**Aufgabe:** Experimentiere mit verschiedenen Ausdrücken. Nutze konstante Werte, Variable, Operationen und Funktionsaufrufe."
   ]
  },
  {
   "cell_type": "code",
   "execution_count": null,
   "metadata": {},
   "outputs": [],
   "source": [
    "# Platz für Experimente mit Ausdrücken\n"
   ]
  },
  {
   "cell_type": "markdown",
   "metadata": {},
   "source": [
    "## Datentypen\n",
    "Python ordnet jedem Wert im Speicher automatisch einen passenden Datentyp zu. Variable können auf Werte mit beliebigen Datentypen verweisen. Mit jeder Zuweisung können Python-Variable einen neuen Datentyp \"annehmen\". Dies nennt man **dynamische Typisierung**.\n",
    "\n",
    "Die wichtigsten Datentypen für den Anfang sind\n",
    "\n",
    "| Datentyp  | Schlüsselwort  | Abkürzung von  | Beispiel  |\n",
    "|---|---|---|---|\n",
    "| **Ganzzahlen**  | `int`  | *integer*   | 1337  |\n",
    "| **Kommazahlen** | `float` | *floating point number* | 33.33333333 | \n",
    "| **Zeichenketten** | `str` | *string* | \"Python fetzt\" |\n",
    "| **Wahrheitswerte** | `bool` | *boolean* | `True` und `False` |\n",
    "| **Nicht-Wert** | `None` | NoneType  | wenn eine Variable keinen Wert haben soll|\n",
    "\n",
    "### Datentypen ausgeben\n",
    "Mit `type(ausdruck)` ermittelt man den Datentyp eines Werts. Um diesen auszugeben, kann man `type()` zum Beispiel in `print()` stecken:\n",
    "\n",
    "```python\n",
    "print(type(999.999))\n",
    "```\n",
    "\n",
    "**Aufgabe:** Überlege dir zu jeder Variablen den passenden Datentyp. Überprüfe deine Überlegung, indem du den Typ jeder Variable ausgibst."
   ]
  },
  {
   "cell_type": "code",
   "execution_count": null,
   "metadata": {},
   "outputs": [],
   "source": [
    "zahl = 7\n",
    "print(zahl)\n",
    "print(type(zahl))\n",
    "\n",
    "PI = 3.141 # Kommas müssen US-amerikanisch mit (.) geschrieben werden\n",
    "print(PI)\n",
    "\n",
    "zeichen = 'a'\n",
    "print(zeichen)\n",
    "\n",
    "zeichenkette = \"abc\"\n",
    "print(zeichenkette)\n",
    "\n",
    "ding = 101\n",
    "dong = ding\n",
    "print(dong)\n",
    "\n",
    "wahrheitswert = True\n",
    "print(wahrheitswert)\n",
    "\n",
    "ohne_wert = None # Leerer Wert\n",
    "print(ohne_wert)\n",
    "\n"
   ]
  },
  {
   "cell_type": "code",
   "execution_count": null,
   "metadata": {},
   "outputs": [],
   "source": []
  },
  {
   "cell_type": "markdown",
   "metadata": {},
   "source": [
    "### Typumwandlung\n",
    "Typen von Werten können verändert werden (*Typumwandlung* oder *Typkonversion*, englisch *type cast*). Es gibt die **implizite** (bedeutet in etwa *inbegriffen*) und die **explizite** (bedeutet *ausdrücklich*) Typumwandlung.\n",
    "\n",
    "<blockquote>\n",
    "    <b>Implizite Typumwandlung:</b> Python veranlasst die Umwandlung in einen (mächtigeren) Typ selbst, falls möglich und nötig.<br>\n",
    "    <b>Explizite Typumwandlung:</b> Der Mensch veranlasst die Umwandlung, indem er den Wert klammert und den gewünschten Typ davor schreibt.</blockquote>\n",
    "\n",
    "Die **implizite Typumwandlung** geschieht automatisch durch die Laufzeitumgebung von Python. Bei einer Operation mit unterschiedlichen aber kompatiblen Typen bekommt das Ergebnis den \"größeren\" Datentyp. Information kann aber auch verloren gehen, wie zum Beispiel Nachkommastellen."
   ]
  },
  {
   "cell_type": "code",
   "execution_count": null,
   "metadata": {},
   "outputs": [],
   "source": [
    "zahl = 1 + 1.0\n",
    "print(zahl, type(zahl))\n",
    "## Das Ergebnis der Addition von int und float erhält den Typ float\n",
    "\n",
    "zahl = 7 // 2\n",
    "print(zahl, type(zahl))\n",
    "# Das Ergebnis der Ganzzahldivision // ist immer eine Ganzzahl, int\n",
    "# Die Nachkommastellen gehen verloren."
   ]
  },
  {
   "cell_type": "markdown",
   "metadata": {},
   "source": [
    "Die **explizite Typumwandlung** veranlassen Menschen durch klammern des Werts und voranstellen des gewünschten Datentyps.\n",
    "```python\n",
    "umgewandelt = wunschtyp(wert)\n",
    "```"
   ]
  },
  {
   "cell_type": "code",
   "execution_count": null,
   "metadata": {},
   "outputs": [],
   "source": [
    "zahl = int(3.33333)\n",
    "print(zahl, type(zahl))\n",
    "\n",
    "zahl = float(3)\n",
    "print(zahl, type(zahl))\n",
    "\n",
    "zahl = str(3)\n",
    "print(zahl, type(zahl))\n",
    "\n",
    "zahl = float(\"3.3\")\n",
    "print(zahl, type(zahl))"
   ]
  },
  {
   "cell_type": "markdown",
   "metadata": {},
   "source": [
    "### Konstante\n",
    "Konstante ändern sich im Gegensatz zu Variablen nicht im Programmverlauf. Ihr Wert bleibt immer gleich. Viele Programmiersprachen erlauben das Festlegen von Konstanten und verhindern das Ändern ihrer Werte. Python bietet keinen solchen Mechanismus für Konstante, sondern überlässt die Aufgabe Programmierer:innen in Form von Namenskonventionen.\n",
    "\n",
    "<blockquote>Um einen Wert in Python als konstant zu definieren, schreibt man den Namen vollständig in Großbuchstaben.</blockquote>\n",
    "\n",
    "Wohlerzogene Programmierer:innen wissen dann, dass der Wert nicht verändert werden soll."
   ]
  },
  {
   "cell_type": "markdown",
   "metadata": {},
   "source": [
    "## Variablennamen\n",
    "Python-Variablennamen können eine beliebige Länge haben und aus folgenden Zeichen gebildet werden\n",
    "- Kleinbuchstaben: a-z\n",
    "- Großbuchstaben: A-Z\n",
    "- Ziffern: 0-9\n",
    "- Unterstriche: _\n",
    "\n",
    "Dabei darf das erste Zeichen keine Ziffer sein.\n",
    "\n",
    "**Aufgabe:** Teste die Python-Regeln für Variablennamen, indem du ein paar Variable erstellst. Probiere aus was passiert, wenn Variablennamen nicht erlaubt sind."
   ]
  },
  {
   "cell_type": "code",
   "execution_count": null,
   "metadata": {},
   "outputs": [],
   "source": [
    "# Platz zum Testen"
   ]
  },
  {
   "cell_type": "markdown",
   "metadata": {},
   "source": [
    "### Gute Variablennamen\n",
    "Gute Variablennamen helfen Leser:innen, das Programm zu verstehen. Quelltext wird für **Menschen** und nicht für Computer geschrieben. Darum sollen Menschen ihn ohne künstliche Hindernisse verstehen können. Programme die leicht verständlich sind können schneller geschrieben und verbessert oder erweitert werden.\n",
    "\n",
    "<blockquote>\n",
    " <p>“Indeed, the ratio of time spent reading versus writing is well over 10 to 1. We are constantly reading old code as part of the effort to write new code. ...[Therefore,] making it easy to read makes it easier to write.”</p>\n",
    "</blockquote>\n",
    "<p><small>— Robert C. Martin, Clean Code: A Handbook of Agile Software Craftsmanship</small></p>\n",
    "\n",
    "Ein paar Regeln für gute Namen sind:\n",
    "- Schreibe alles klein, es sei denn du hast einen Grund\n",
    "- Nutze keine Abkürzungen, es sei denn jeder kennt sie\n",
    "- Benenne jedes Ding so, dass keine Zusatzinformationen nötig sind\n",
    "- Nimm suchbare Namen (strg+f), keine Buchstaben, es sei denn du hast einen guten Grund\n",
    "- Vermeide Namen die man jeder anderen Variablen im Programm geben könnte, wie `variable` oder `wert`\n",
    "- Benenne jedes Ding mit dem jeweils besten Namen dafür\n",
    "- Gestalte deinen Code nach den allgemeinen Konventionen der jeweiligen Programmiersprache\n",
    " \n",
    "<blockquote>Aussagekräftige Variablennamen verraten das Nötige, so dass Menschen nicht im Quelltext oder woanders nach dem Sinn einer Variablen suchen müssen.</blockquote>\n",
    "\n",
    "Wenn Namen immer nach dem selben Schema gebildet werden, können Programmierer:innen sie jederzeit reproduzieren und müssen später nicht unnötig im Code herumscrollen.\n",
    "Die allgemeinen Gestaltungsregeln für Python-Variablennamen sind:\n",
    "\n",
    "\n",
    "**Schreibe Variablennamen klein, trenne Wörter durch Unterstriche.**\n",
    "\n",
    "Zum Beispiel:\n",
    "`anzahl_aepfel`, `minuten_pro_sekunde`, `tage_seit_erstellung`, `beste_note_im_schuljahr` \n",
    "\n",
    "**Aufgabe:** Die unteren Variablen haben schlechte Namen. Finde bessere Namen im Sinn der obigen Regeln und so, dass die beschreibenden Kommentare möglichst nicht mehr nötig sind."
   ]
  },
  {
   "cell_type": "code",
   "execution_count": null,
   "metadata": {},
   "outputs": [],
   "source": [
    "var = 31 # Tage, die ein Monat höchstens haben kann\n",
    "a = 3.141592653589793238462643383279 # Kreiszahl, Verhältnis von Umfang zu Durchmesser eines Kreises\n",
    "b = 115865 # Leute mit Hauptwohnsitz in der Stadt Reutlingen (Stand 31.12.2019)\n",
    "wert = 287034 # Menschen die im Landkreis Reutlingen wohnen (Stand 31.12.2019)\n",
    "d = \"Himbeere\" # Das Obst, das der Benutzer am liebsten isst\n",
    "x = 7632.93 # Ergebnis einer Addition\n",
    "y = 144 # Ergebnis einer Multiplikation\n",
    "z = 18 # Das Alter der Studierenden zusammengezählt, geteilt durch die Anzahl der Studierenden\n",
    "uml = \"ä\" # uml steht hier für Umlaut, nicht für Unified-Modeling-Language\n",
    "AnzPatienten = 37\n",
    "AKTUELLE_TEMPERATUR = 22.5\n",
    "MwstStz = 19\n",
    "oster_Datum = \"4.4.2021\"\n",
    "lieblFarbe = \"Blau\"\n",
    "wochentag_ostern = \"Sonntag\"\n",
    "antw = 42"
   ]
  },
  {
   "cell_type": "markdown",
   "metadata": {},
   "source": [
    "### Werte von der Tastatur einlesen: `input()`\n",
    "Die Funktion `input()` liest eine Zeichenkette (`str`) von der Tastatur ein und liefert sie an die Aufrufstelle.\n",
    "```python\n",
    "eingelesener_wert = input()\n",
    "```"
   ]
  },
  {
   "cell_type": "code",
   "execution_count": null,
   "metadata": {},
   "outputs": [],
   "source": [
    "eingelesener_wert = input()"
   ]
  },
  {
   "cell_type": "markdown",
   "metadata": {},
   "source": [
    "Sinnvollerweise gibt man `input()` einen passenden Text mit, damit Benutzer:innen wissen was von ihnen verlangt wird. Diese Aufforderung zur Eingabe von Daten schreibt man als Zeichenkette in die Klammern von `input()`."
   ]
  },
  {
   "cell_type": "code",
   "execution_count": null,
   "metadata": {},
   "outputs": [],
   "source": [
    "name = input(\"Wie ist dein Name? \")\n",
    "print(f\"Hallo, {name}!\")"
   ]
  },
  {
   "cell_type": "markdown",
   "metadata": {},
   "source": [
    "Wollen wir mit den Werten **rechnen**, müssen wir sie zuerst von Zeichenketten zu Zahlen konvertieren (umwandeln). Hier eignet sich meistens `float`, da Kommazahlen flexibler als Ganzzahlen (`int`) sind."
   ]
  },
  {
   "cell_type": "code",
   "execution_count": null,
   "metadata": {},
   "outputs": [],
   "source": [
    "masse = float(input(\"Wie viel Kilogramm wiegst du? \"))\n",
    "print(f\"Wenn du so weiter machst, wiegst du nächste Woche {masse + 1.5} kg.\")"
   ]
  },
  {
   "cell_type": "markdown",
   "metadata": {},
   "source": [
    "### Variable in Python sind anders\n",
    "In vielen Programmiersprachen sind Variablennamen an eine bestimmte Speicherstelle fester Größe gebunden. Beim Erstellen muss man keinen Wert, aber dafür den Datentyp angeben (**Deklaration**). Dann kann man den ersten Wert zuweisen (**Initialisierung**). In die bestimmte Speicherstelle fester Größe können nur *gleichartige Werte gleicher Größe* gelegt werden. Zum Beispiel nur Ganzzahlen oder nur Kommazahlen oder nur Zeichen. Bei *statisch typisierten* Programmiersprachen wie C, C++, Java und C# bleibt der Datentyp einer Variable im Programmverlauf bestehen. Bei Python ist das jedoch anders, Python ist *dynamisch typisiert*:\n",
    "\n",
    "Python-Variable kann man sich wie Hyperlinks vorstellen. Sie können zuerst auf eine große Website verweisen und dann auf eine völlig andere, kleinere Website *umgebogen* werden.\n",
    "\n",
    "In Python sind Variable **Verweise auf Objekte** im Speicher. Das Objekt kann dabei einen beliebigen Typ und eine beliebige Größe haben. Bei einer erneuten Zuweisung wird der Verweis auf das neu zugewiesene Objekt *gebogen*. Das neu zugewiesene Objekt kann dabei eine andere Größe und einen anderen Datentyp haben.\n",
    "\n",
    "<hr>\n",
    "\n",
    "Für Fortgeschrittene: Verweise auf Objekte im Speicher werden je nach Sprache als Zeiger (*Pointer*) oder Referenzen realisiert. In Python ist ein Variablenname eine Referenz auf ein Objekt, das den Wert hält.\n",
    "<hr>"
   ]
  },
  {
   "cell_type": "markdown",
   "metadata": {},
   "source": [
    "# Operatoren\n",
    "## Arithmetische Operatoren\n",
    "\n",
    "Arithmetische Operatoren sind `+`, `-`, `*`, `/`, `//`, `**` und `%`.\n"
   ]
  },
  {
   "cell_type": "code",
   "execution_count": 1,
   "metadata": {},
   "outputs": [
    {
     "name": "stdout",
     "output_type": "stream",
     "text": [
      "10 plus 3 = 13\n",
      "10 minus 3 = 7\n",
      "10 mal 3 = 30\n",
      "10 durch 3 = 3.3333333333333335\n",
      "10 durch 3 = 3\n",
      "10 hoch 3 = 1000\n",
      "10 modulo 3 = 1\n"
     ]
    }
   ],
   "source": [
    "a = 10\n",
    "b = 3\n",
    "print(a, \"plus\", b, \"=\", a + b)\n",
    "print(a, \"minus\", b, \"=\", a - b)\n",
    "print(a, \"mal\", b, \"=\", a * b)\n",
    "print(a, \"durch\", b, \"=\", a / b)\n",
    "print(a, \"durch\", b, \"=\", a // b)\n",
    "print(a, \"hoch\", b, \"=\", a ** b)\n",
    "print(a, \"modulo\", b, \"=\", a % b)"
   ]
  },
  {
   "cell_type": "markdown",
   "metadata": {},
   "source": [
    "### Modulo (auch Modulus)\n",
    "Der Modulo-Operator `%` liefert den Rest einer Ganzzahldivision.\n",
    "\n",
    "**Aufgabe:** Experimentiere mit den beiden unteren Programmen."
   ]
  },
  {
   "cell_type": "code",
   "execution_count": 2,
   "metadata": {},
   "outputs": [
    {
     "name": "stdout",
     "output_type": "stream",
     "text": [
      "21 geteilt durch 4 ist 5 Rest 1\n"
     ]
    }
   ],
   "source": [
    "a = 21 # Verändere den Wert\n",
    "b = 4 # Verändere den Wert\n",
    "print(a, \"geteilt durch\", b, \"ist\", a//b, \"Rest\", a % b)"
   ]
  },
  {
   "cell_type": "code",
   "execution_count": 3,
   "metadata": {},
   "outputs": [
    {
     "name": "stdout",
     "output_type": "stream",
     "text": [
      "Ist 43 gerade? False\n"
     ]
    }
   ],
   "source": [
    "zahl = 43 # Experimentiere mit anderen Werten\n",
    "ist_gerade = zahl % 2 == 0 # Gerade Zahlen sind ohne Rest durch Zwei teilbar\n",
    "print(\"Ist\", zahl, \"gerade?\", ist_gerade)"
   ]
  },
  {
   "cell_type": "markdown",
   "metadata": {},
   "source": [
    "## Vergleichsoperatoren\n",
    "Vergleichsoperatoren vergleichen zwei Werte und liefern stets einen Wahrheitswert (`True` oder `False`). \n",
    "\n",
    "| Operator  | Bedeutung  |\n",
    "|---|---|\n",
    "| `==`  | gleich   |\n",
    "| `!=` | ungleich | \n",
    "| `<` | kleiner |\n",
    "| `>` | größer |\n",
    "| `<=` | kleiner oder gleich  |\n",
    "| `>=` | größer oder gleich  |\n",
    "\n",
    "Zu jedem Vergleichsoperator gibt es einen Vergleichsoperator der das Gegenteil repräsentiert. \n",
    "\n",
    "| Operator  | Gegenteil  |\n",
    "|---|---|\n",
    "| `==`  | `!=`   | \n",
    "| `<` | `>=` |\n",
    "| `>` | `<=` |\n",
    "\n",
    "**Beachte:** die Umkehrung von `a < b` ist `a >= b` und **nicht** `a > b`."
   ]
  },
  {
   "cell_type": "markdown",
   "metadata": {},
   "source": [
    "## Logische (boolesche) Operatoren\n",
    "Vergleichsoperatoren vergleichen zwei Wahrheitswerte (`True` oder `False`) und liefern stets einen Wahrheitswert (`True` oder `False`). \n",
    "\n",
    "| Operator  | Bedeutung  |\n",
    "|---|---|\n",
    "| `not`  | nicht   |\n",
    "| `and` | und | \n",
    "| `or` | oder |"
   ]
  },
  {
   "cell_type": "code",
   "execution_count": null,
   "metadata": {},
   "outputs": [],
   "source": [
    "a = True\n",
    "b = False\n",
    "\n",
    "print(f\"NICHT {a} = {not a}\")\n",
    "print(f\"NICHT {b} = {not b}\")\n",
    "print()\n",
    "print(f\"{a}\\tUND\\t{a}\\t = {a and a}\")\n",
    "print(f\"{a}\\tUND\\t{b}\\t = {a and b}\")\n",
    "print(f\"{b}\\tUND\\t{b}\\t = {b and b}\")\n",
    "print(f\"{a}\\tODER\\t{a}\\t = {a or a}\")\n",
    "print(f\"{a}\\tODER\\t{b}\\t = {a or b}\")\n",
    "print(f\"{b}\\tODER\\t{b}\\t = {b or b}\")"
   ]
  },
  {
   "cell_type": "markdown",
   "metadata": {},
   "source": [
    "# Verzweigungen\n",
    "## Anweisungen und Codeblöcke\n",
    "\n",
    "Code wird in einzelne Anweisungen und Codeblöcke unterteilt. Codeblöcke fassen einzelne Anweisungen zu einer Einheit zusammen. In vielen Programmiersprachen werden Anweisungen mit Semikolons `;` beendet und Blöcke durch geschweifte Klammern `{ }` gebildet. So könnte man, wenn man besonders schlechte Manieren hat, ein anspruchsvolles C-Programm in eine einzige Zeile schreiben. In Python ist das so nicht möglich: **Leerzeichen und Zeilenumbrüche sind Sprachelemente von Python**.\n",
    "\n",
    "- Zeilenumbrüche beenden Anweisungen.\n",
    "- Eingerückte Anweisungen definieren einen Codeblock. Alle aufeinanderfolgenden Anweisungen auf der selben Einrückungsebene bilden eine Einheit."
   ]
  },
  {
   "cell_type": "markdown",
   "metadata": {},
   "source": [
    "## Option: `if`\n",
    "Verzweigungen führen zu optionalen (konditionalen) und alternativen Programmabläufen (Zweigen).\n",
    "\n",
    "In Python werden Verzweigungen mit dem Schlüsselwort `if` eingeleitet. Darauf folgt eine **Bedingung**, die mit einem Doppelpunkt `:` und einem Zeilenumbruch abgeschlossen wird. Darunter *muss* eingerückter Code, ein sogenannter Codeblock stehen. Der eingerückte Code bildet den optionalen Zweig.\n",
    " \n",
    "```python\n",
    "if bedingung:\n",
    "    # Beginn des optionalen Zweigs\n",
    "    print(\"Dieser Code wird nur ausgeführt\")\n",
    "    print(\"falls die obige Bedingung wahr ergab.\")\n",
    "print(\"Dieser Code wird immer ausgeführt,\")\n",
    "print(\"denn er gehört nicht mehr zum optionalen Zweig.\")\n",
    "```\n",
    "Ergibt die Auswertung der if-Bedingung wahr (True), wird der nachfolgend eingerückte Code (Zweig) ausgeführt. \n",
    "\n",
    "Falls die Auswertung der Bedingung falsch (False) ergibt, wird der Zweig übersprungen. Das Programm fährt dann mit den Anweisungen fort, die auf den Zweig folgen."
   ]
  },
  {
   "cell_type": "markdown",
   "metadata": {},
   "source": [
    "### Übungen zu `if`\n",
    "**Aufgabe:** Experimentiere mit den beiden Werten `True` und `False` und sieh dir das Ergebnis an."
   ]
  },
  {
   "cell_type": "code",
   "execution_count": null,
   "metadata": {},
   "outputs": [],
   "source": [
    "bedingung = False # Experimentiere mit den Werten True und False\n",
    "if bedingung:\n",
    "    print(\"Dieser Code wird nur ausgeführt\")\n",
    "    print(\"falls die obige Bedingung wahr ergab\")\n",
    "    print()\n",
    "print(\"Dieser Code wird immer ausgeführt,\")\n",
    "print(\"denn er gehört nicht mehr zum optionalen Zweig.\")"
   ]
  },
  {
   "cell_type": "markdown",
   "metadata": {},
   "source": [
    "<hr>\n",
    "Die Verzweigungen im unteren Programm sind unsinnig, da immer nur der Zweig mit der Bedingung `True`ausgeführt wird. Ein äquivalentes, aber schöneres und effizienteres Programm wäre:\n",
    "\n",
    "```Python\n",
    "print(\"Dieser Zweig wird immer erreicht, da True immer wahr ist.\")\n",
    "```"
   ]
  },
  {
   "cell_type": "code",
   "execution_count": null,
   "metadata": {},
   "outputs": [],
   "source": [
    "if True: # Unsinnige Abfrage, da immer wahr\n",
    "    print(\"Dieser Zweig wird immer erreicht, da True immer wahr ist.\")\n",
    "\n",
    "if False: # Unsinnige Abfrage, da nie wahr\n",
    "    print(\"Zweig wird niemals erreicht, da False stets falsch ist.\")"
   ]
  },
  {
   "cell_type": "markdown",
   "metadata": {},
   "source": [
    "<hr>\n",
    "\n",
    "**Aufgabe:** Verändere im unteren Programm die Werte a und b so, dass alle Zweige gleichzeitig erreicht werden."
   ]
  },
  {
   "cell_type": "code",
   "execution_count": null,
   "metadata": {},
   "outputs": [],
   "source": [
    "a = 1.99999999 # <- Verändere den Wert\n",
    "b = 10 # <- Verändere den Wert\n",
    "\n",
    "if a == 2:\n",
    "   print(\"Erster Zweig wurde erreicht. Juhu!\")\n",
    "\n",
    "if b < 10:\n",
    "   print(\"Zweiter Zweig wurde erreicht. Super!\")\n",
    "\n",
    "if b == 3 * a + a / 2 + 0.5:\n",
    "    print(\"Der dritte Zweig wurde erreicht. Toll!\")\n",
    "    \n",
    "if a == 2 and b == 3 * a + a / 2 + 0.5:\n",
    "    print(\"Alle oberen Zweige wurden gleichzeitig erreicht! Perfekt!\")"
   ]
  },
  {
   "cell_type": "markdown",
   "metadata": {},
   "source": [
    "<hr>\n",
    "\n",
    "Das untere Programm gibt `Fertig.` aus. \n",
    "Falls die in Zeile 1 festgelegte Zahl gerade ist, gibt es vorher noch die Zahl, gefolgt von `ist gerade.` aus."
   ]
  },
  {
   "cell_type": "code",
   "execution_count": null,
   "metadata": {},
   "outputs": [],
   "source": [
    "zahl = 264 # Experimentiere mit verschiedenen Zahlen\n",
    "ist_gerade = zahl % 2 == 0 # Gerade Zahlen sind ohne Rest durch zwei teilbar\n",
    "if ist_gerade:\n",
    "    print(zahl, \"ist gerade.\")\n",
    "print(\"Fertig.\")"
   ]
  },
  {
   "cell_type": "markdown",
   "metadata": {},
   "source": [
    "**Aufgabe:** Das obere Programm enthält eine unnötige Variable, die zwar die Lesbarkeit erhöht, aber ein wenig mehr Speicher kostet. Verändere das untere Programm so, dass es ohne diese Variable auskommt."
   ]
  },
  {
   "cell_type": "code",
   "execution_count": null,
   "metadata": {},
   "outputs": [],
   "source": [
    "zahl = 264 # Experimentiere mit verschiedenen Zahlen\n",
    "ist_gerade = zahl % 2 == 0 # Gerade Zahlen sind ohne Rest durch zwei teilbar\n",
    "if ist_gerade:\n",
    "    print(zahl, \"ist gerade.\")\n",
    "print(\"Fertig.\")"
   ]
  },
  {
   "cell_type": "markdown",
   "metadata": {},
   "source": [
    "**Aufgabe:** Welchen Datentyp mit vier Buchstaben hatte die unnötige Variable im oberen Programm? Schreibe ihn ins untere Programm."
   ]
  },
  {
   "cell_type": "code",
   "execution_count": null,
   "metadata": {},
   "outputs": [],
   "source": [
    "datentyp_der_variablen = \"flowt\" # <- Verändere diese Zeichenkette\n",
    "\n",
    "###############################################\n",
    "############ unten nicht editieren ############\n",
    "###############################################\n",
    "def plitsch(platsch):  \n",
    "    plitsch, plotsch, plutsch, pletsch, plapp = 0, 0, 0, 2, 10\n",
    "    while(platsch != plutsch):  \n",
    "        plitsch = plitsch + (platsch % plapp) * pow(pletsch, plotsch)  \n",
    "        platsch = platsch // plapp\n",
    "        plotsch += (pletsch // pletsch)\n",
    "    return (plitsch)\n",
    "def plotsch():\n",
    "    antwort = 42\n",
    "    plom = int(antwort and not antwort)\n",
    "    plim = int(plom or not antwort or 1)\n",
    "    p,l = str(plim)*(plim+plim), str(plom)*(plim+plim+plim)\n",
    "    a,t = p[0] + l[1], p[:]\n",
    "    s = a[::-1]\n",
    "    c = s[-1] * 5\n",
    "    h = s[:1] + c + a + p + l[-2] * 2\n",
    "    plom = ((p+l+a+t+s+c+h))\n",
    "    plim = ''\n",
    "    for plem in range(0, len(plom), 7): \n",
    "        plam = int(plom[plem:plem + 7]) \n",
    "        plum = plitsch(plam)\n",
    "        plim += chr(plum)\n",
    "    return plim\n",
    "def plutsch(pletsch):\n",
    "    if plotsch() == pletsch:\n",
    "        print(\"Super, der Datentyp ist richtig!\")\n",
    "    else:\n",
    "        print(\"Leider noch nicht richtig, versuch es weiter!\")\n",
    "plutsch(datentyp_der_variablen)"
   ]
  },
  {
   "cell_type": "markdown",
   "metadata": {},
   "source": [
    "Das untere Programm gibt eine Zeile aus, falls die aktuelle Systemzeitsekunde gerade ist. Führe es ein paar Mal aus und beobachte das Verhalten."
   ]
  },
  {
   "cell_type": "code",
   "execution_count": null,
   "metadata": {},
   "outputs": [],
   "source": [
    "from time import time\n",
    "sekunde = int(time() % 60)\n",
    "if sekunde % 2 == 0:\n",
    "    print(\"Sekunde\", sekunde, \"ist gerade.\")"
   ]
  },
  {
   "cell_type": "markdown",
   "metadata": {},
   "source": [
    "## Alternative: `else`\n",
    "Mit `else` kann unter dem `if`-Block ein **alternativer Block** eingeleitet werden. Ein alternativer Zweig wird immer dann erreicht, wenn der Ausdruck in der `if`-Abfrage falsch (`False`) ergibt.\n",
    "\n",
    "<blockquote>Es wird entweder der if-Zweig oder der else-Zweig ausgeführt.</blockquote>\n",
    " \n",
    "Anschließend fährt das Programm mit den Anweisungen fort, die auf den Codeblock des else-Zweigs folgen.\n",
    "\n",
    "```python\n",
    "if bedingung:\n",
    "    print(\"Die Bedingung ist erfüllt\")\n",
    "else:\n",
    "    print(\"Die Bedingung ist nicht erfüllt\")\n",
    "```\n",
    "**Aufgabe:** Experimentiere mit den beiden Werten True und False."
   ]
  },
  {
   "cell_type": "code",
   "execution_count": null,
   "metadata": {},
   "outputs": [],
   "source": [
    "bedingung = False # Experimentiere mit den Werten True und False\n",
    "if bedingung:\n",
    "    print(\"Die Bedingung ist erfüllt\")\n",
    "else:\n",
    "    print(\"Die Bedingung ist nicht erfüllt\")"
   ]
  },
  {
   "cell_type": "markdown",
   "metadata": {},
   "source": [
    "**Aufgabe:** Experimentiere mit verschiedenen Ausdrücken."
   ]
  },
  {
   "cell_type": "code",
   "execution_count": null,
   "metadata": {},
   "outputs": [],
   "source": [
    "ausdruck = 9 > 10 # Experimentiere mit Audrücken\n",
    "if ausdruck:\n",
    "    print(\"Der Ausdruck ergibt wahr:\", ausdruck)\n",
    "else:\n",
    "    print(\"Der Ausdruck ergibt falsch, sein Gegenteil ergibt wahr:\", ausdruck)"
   ]
  },
  {
   "cell_type": "markdown",
   "metadata": {},
   "source": [
    "Das untere Programm gibt verschiedene Zeilen aus, je nachdem ob die aktuelle Systemzeitsekunde gerade oder ungerade ist. Führe es ein paar Mal aus und beobachte das Verhalten."
   ]
  },
  {
   "cell_type": "code",
   "execution_count": null,
   "metadata": {},
   "outputs": [],
   "source": [
    "from time import time\n",
    "sekunde = int(time() % 60)\n",
    "if sekunde % 2 == 0:\n",
    "    print(\"Sekunde\", sekunde, \"ist gerade.\")\n",
    "else:\n",
    "    print(\"Sekunde\", sekunde, \"ist ungerade.\")"
   ]
  },
  {
   "cell_type": "markdown",
   "metadata": {},
   "source": [
    "## Sonst-Falls: `elif` (else-if)\n",
    "Verzweigungen kann man verschachteln. Die Anweisungsblöcke von Verzweigungen können also wieder Verzweigungen enthalten. So können Programme tief verzweigen.\n",
    "```python\n",
    "if ist_rot:\n",
    "    print(\"Rot.\")\n",
    "else:\n",
    "    if ist_gelb:\n",
    "        print(\"Nicht rot, aber gelb.\")\n",
    "    else:\n",
    "        print(\"Weder rot noch gelb.\")\n",
    "```\n",
    "\n",
    "Tiefe Verzweigungen sind schwierig zu lesen. Aus diesem Grund gibt es eine kürzere Schreibweise, wenn ein `else`-Zweig eine weitere `if`-Verzweigung enthält. \n",
    "\n",
    "**Das else-if in Python:**\n",
    "In Python werden `if` und `else` so nah ineinandergeschoben, dass `elif` daraus wird.\n",
    "\n",
    "Mit dem Schlüsselwort `elif` ergibt sich folgende Version für das obige Programm, die weniger tief geschachtelt ist.\n",
    "```python\n",
    "if ist_rot:\n",
    "    print(\"Rot.\")\n",
    "elif ist_gelb:\n",
    "    print(\"Nicht rot, aber gelb.\")\n",
    "else:\n",
    "    print(\"Weder rot noch gelb.\")\n",
    "```\n",
    "\n",
    "**Aufgabe:** Experimentiere mit verschiedenen Werten für `ist_rot` und `ist_gelb` im unteren Programm."
   ]
  },
  {
   "cell_type": "code",
   "execution_count": null,
   "metadata": {},
   "outputs": [],
   "source": [
    "ist_rot = False # Verändere den Wert\n",
    "ist_gelb = True # Verändere den Wert\n",
    "\n",
    "if ist_rot:\n",
    "    print(\"Rot.\")\n",
    "elif ist_gelb:\n",
    "    print(\"Nicht rot, aber gelb.\")\n",
    "else:\n",
    "    print(\"Weder rot noch gelb.\")"
   ]
  },
  {
   "cell_type": "markdown",
   "metadata": {},
   "source": [
    "### Übungen zu `if`, `elif` und `else`"
   ]
  },
  {
   "cell_type": "markdown",
   "metadata": {},
   "source": [
    "**Aufgabe:** Erstelle ein Programm, das eine Zahl einliest, und die eingelesene Zahl mit der Zahl 10 vergleicht. \n",
    "\n",
    "a) Das Programm soll ausgeben „Zahl kleiner als 10“, wenn die eingegebene Zahl kleiner als 10 ist,\n",
    "und ausgeben „Zahl ist größer oder gleich 10“, wenn die eingegebene Zahl größer oder gleich 10 ist."
   ]
  },
  {
   "cell_type": "code",
   "execution_count": null,
   "metadata": {},
   "outputs": [],
   "source": []
  },
  {
   "cell_type": "markdown",
   "metadata": {},
   "source": [
    "b)  Erweitere das Programm aus a), so dass drei Ausgaben möglich sind:\n",
    "- Zahl ist kleiner als 10\n",
    "- Zahl ist größer als 10\n",
    "- Zahl ist 10"
   ]
  },
  {
   "cell_type": "code",
   "execution_count": null,
   "metadata": {},
   "outputs": [],
   "source": []
  },
  {
   "cell_type": "markdown",
   "metadata": {},
   "source": [
    "**Aufgabe:** Erstelle ein Programm, das drei Zahlen hintereinander einliest.<br>\n",
    "a) Schreibe es so, dass es ausgibt ob die dritte Zahl zwischen der ersten und der zweiten Zahl liegt.\n",
    "<br>Zum Beispiel\n",
    "\n",
    "Eingabe: 5<br>\n",
    "Eingabe: 10<br>\n",
    "Eingabe: 7<br>\n",
    "Ausgabe: 7 liegt zwischen 5 und 10\n",
    "\n",
    "b)  Erweitere das Programm so, dass es ausgibt ob die dritte Zahl zwischen den ersten beiden liegt, auch wenn die zweite Zahl kleiner als die erste Zahl ist."
   ]
  },
  {
   "cell_type": "code",
   "execution_count": null,
   "metadata": {},
   "outputs": [],
   "source": []
  },
  {
   "cell_type": "markdown",
   "metadata": {},
   "source": [
    "c)  Erweitere das Programm aus b), so dass es ausgibt ob die dritte Zahl \n",
    "kleiner als die ersten beiden ist, \n",
    "größer als die ersten beiden ist, \n",
    "zwischen den beiden ersten liegt \n",
    "oder genau gleich einer der beiden ersten Zahlen ist."
   ]
  },
  {
   "cell_type": "code",
   "execution_count": null,
   "metadata": {},
   "outputs": [],
   "source": []
  },
  {
   "cell_type": "markdown",
   "metadata": {},
   "source": [
    "**Aufgabe:** Erstelle ein Programm, das eine Jahreszahl einliest, und entscheidet ob das Jahr ein Schaltjahr ist oder nicht.\n",
    "Schaltjahre sind alle Jahre, die durch 4 teilbar sind, außer wenn sie durch 100 teilbar sind.\n",
    "Ist das Jahr aber durch 400 teilbar, dann ist es trotzdem ein Schaltjahr.\n",
    "Das Jahr 2000 ist ein Schaltjahr gewesen, 1900 nicht."
   ]
  },
  {
   "cell_type": "code",
   "execution_count": null,
   "metadata": {},
   "outputs": [],
   "source": []
  },
  {
   "cell_type": "markdown",
   "metadata": {},
   "source": [
    "**Aufgabe:** Erstelle ein Programm, das die Nullstellen einer quadratischen Gleichung \n",
    "`ax2 + bx + c = 0` ausrechnet und ausgibt.\n",
    "- Die Nullstellen berechnen sich aus `x1, 2 = (-b ± √( b2 – 4ac )) / 2a`\n",
    "- Die Diskriminante `b2 – 4ac` bestimmt die Anzahl der Nullstellen\n",
    "- Die Bibliotheksfunktion `sqrt()` aus dem Modul `math` liefert die Wurzel einer übergebenen Zahl"
   ]
  },
  {
   "cell_type": "code",
   "execution_count": null,
   "metadata": {},
   "outputs": [],
   "source": [
    "from math import sqrt\n",
    "\n",
    "# Testausgabe für das Wurzelziehen\n",
    "print(sqrt(144))"
   ]
  }
 ],
 "metadata": {
  "kernelspec": {
   "display_name": "Python 3",
   "language": "python",
   "name": "python3"
  },
  "language_info": {
   "codemirror_mode": {
    "name": "ipython",
    "version": 3
   },
   "file_extension": ".py",
   "mimetype": "text/x-python",
   "name": "python",
   "nbconvert_exporter": "python",
   "pygments_lexer": "ipython3",
   "version": "3.8.2"
  }
 },
 "nbformat": 4,
 "nbformat_minor": 4
}
